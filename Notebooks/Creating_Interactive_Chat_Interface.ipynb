{
 "cells": [
  {
   "cell_type": "markdown",
   "id": "afa58d8b",
   "metadata": {},
   "source": [
    "# Task 4: Creating an Interactive Chat Interface"
   ]
  },
  {
   "cell_type": "code",
   "execution_count": 8,
   "id": "0e75b201",
   "metadata": {},
   "outputs": [],
   "source": [
    "# %pip install streamlit\n",
    "# %pip install gradio"
   ]
  },
  {
   "cell_type": "code",
   "execution_count": 9,
   "id": "542b8a8f",
   "metadata": {},
   "outputs": [],
   "source": [
    "import pandas as pd\n",
    "import numpy as np\n",
    "import matplotlib.pyplot as plt\n",
    "import seaborn as sns\n",
    "import re\n",
    "from collections import Counter\n",
    "import os \n",
    "import sys\n",
    "sys.path.append(os.path.abspath(\"../src\"))\n",
    "import warnings\n",
    "warnings.filterwarnings('ignore')"
   ]
  },
  {
   "cell_type": "code",
   "execution_count": 10,
   "id": "58247e6f",
   "metadata": {},
   "outputs": [],
   "source": [
    "# %%\n",
    "os.chdir(\"..\")  # Go up a directory\n",
    "#print(os.getcwd())"
   ]
  },
  {
   "cell_type": "code",
   "execution_count": 12,
   "id": "e71f6046",
   "metadata": {},
   "outputs": [],
   "source": [
    "from app import *"
   ]
  },
  {
   "cell_type": "code",
   "execution_count": 13,
   "id": "be137788",
   "metadata": {},
   "outputs": [
    {
     "name": "stdout",
     "output_type": "stream",
     "text": [
      "Name: streamlit\n",
      "Version: 1.46.1\n",
      "Summary: A faster way to build and share data apps\n",
      "Home-page: https://streamlit.io\n",
      "Author: Snowflake Inc\n",
      "Author-email: hello@streamlit.io\n",
      "License: Apache License 2.0\n",
      "Location: C:\\Users\\hause\\AppData\\Roaming\\Python\\Python311\\site-packages\n",
      "Requires: altair, blinker, cachetools, click, gitpython, numpy, packaging, pandas, pillow, protobuf, pyarrow, pydeck, requests, tenacity, toml, tornado, typing-extensions, watchdog\n",
      "Required-by: \n",
      "Note: you may need to restart the kernel to use updated packages.\n"
     ]
    }
   ],
   "source": [
    "pip show streamlit"
   ]
  },
  {
   "cell_type": "code",
   "execution_count": 14,
   "id": "1a07a33e",
   "metadata": {},
   "outputs": [
    {
     "data": {
      "text/plain": [
       "2"
      ]
     },
     "execution_count": 14,
     "metadata": {},
     "output_type": "execute_result"
    }
   ],
   "source": [
    "import os\n",
    "os.system(\"streamlit run src/app.py\")"
   ]
  },
  {
   "cell_type": "code",
   "execution_count": 16,
   "id": "f006f50b",
   "metadata": {},
   "outputs": [
    {
     "name": "stdout",
     "output_type": "stream",
     "text": [
      "* Running on local URL:  http://127.0.0.1:7860\n",
      "* To create a public link, set `share=True` in `launch()`.\n"
     ]
    },
    {
     "data": {
      "text/html": [
       "<div><iframe src=\"http://127.0.0.1:7860/\" width=\"100%\" height=\"500\" allow=\"autoplay; camera; microphone; clipboard-read; clipboard-write;\" frameborder=\"0\" allowfullscreen></iframe></div>"
      ],
      "text/plain": [
       "<IPython.core.display.HTML object>"
      ]
     },
     "metadata": {},
     "output_type": "display_data"
    },
    {
     "data": {
      "text/plain": []
     },
     "execution_count": 16,
     "metadata": {},
     "output_type": "execute_result"
    }
   ],
   "source": [
    "import gradio as gr\n",
    "import time\n",
    "\n",
    "# Dummy retriever + generator for demonstration\n",
    "def fake_retriever(question):\n",
    "    # Returns top 2 source chunks (texts)\n",
    "    return [\n",
    "        \"Source chunk 1: Customer complaints about login issues.\",\n",
    "        \"Source chunk 2: Frequent crashes reported in app v2.0.\"\n",
    "    ]\n",
    "\n",
    "def fake_generator(prompt):\n",
    "    # Simulate token streaming by yielding tokens slowly\n",
    "    answer = \"The main issues users report are login problems and app crashes.\"\n",
    "    for i in range(len(answer)):\n",
    "        yield answer[:i+1]\n",
    "        time.sleep(0.05)\n",
    "\n",
    "def rag_streaming(question):\n",
    "    # Retrieve sources\n",
    "    sources = fake_retriever(question)\n",
    "    \n",
    "    # Build prompt (skipped here for brevity)\n",
    "    prompt = f\"Context:\\n{sources[0]}\\n{sources[1]}\\nQuestion: {question}\\nAnswer:\"\n",
    "    \n",
    "    # Stream generated answer tokens\n",
    "    for partial_answer in fake_generator(prompt):\n",
    "        yield partial_answer, sources\n",
    "\n",
    "# Gradio interface\n",
    "\n",
    "with gr.Blocks() as demo:\n",
    "    gr.Markdown(\"## Financial Analyst Assistant with Sources and Streaming\")\n",
    "    \n",
    "    question_input = gr.Textbox(label=\"Enter your question\", lines=2)\n",
    "    \n",
    "    answer_output = gr.Textbox(label=\"AI-generated Answer\", lines=6)\n",
    "    \n",
    "    source_output = gr.Textbox(label=\"Retrieved Sources\", lines=6)\n",
    "    \n",
    "    ask_btn = gr.Button(\"Ask\")\n",
    "    clear_btn = gr.Button(\"Clear\")\n",
    "    \n",
    "    # When ask_btn clicked, run rag_streaming and update answer + sources\n",
    "    def ask_fn(question):\n",
    "        # We return a generator, Gradio will stream the answer text and sources together\n",
    "        gen = rag_streaming(question)\n",
    "        # Initial empty answer and sources (sources will update on first yield)\n",
    "        def generator():\n",
    "            for answer, sources in gen:\n",
    "                yield answer, \"\\n\\n\".join(sources)\n",
    "        return generator()\n",
    "    \n",
    "    ask_btn.click(fn=ask_fn, inputs=question_input, outputs=[answer_output, source_output])\n",
    "    \n",
    "    def clear_fn():\n",
    "        return \"\", \"\"\n",
    "    clear_btn.click(fn=clear_fn, inputs=[], outputs=[answer_output, source_output])\n",
    "    \n",
    "demo.launch()\n"
   ]
  }
 ],
 "metadata": {
  "kernelspec": {
   "display_name": "Python 3",
   "language": "python",
   "name": "python3"
  },
  "language_info": {
   "codemirror_mode": {
    "name": "ipython",
    "version": 3
   },
   "file_extension": ".py",
   "mimetype": "text/x-python",
   "name": "python",
   "nbconvert_exporter": "python",
   "pygments_lexer": "ipython3",
   "version": "3.11.0"
  }
 },
 "nbformat": 4,
 "nbformat_minor": 5
}
