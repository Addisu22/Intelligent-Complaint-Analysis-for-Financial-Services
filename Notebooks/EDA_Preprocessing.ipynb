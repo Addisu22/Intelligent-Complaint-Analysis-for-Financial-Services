{
 "cells": [
  {
   "cell_type": "markdown",
   "id": "4501f2dc",
   "metadata": {},
   "source": [
    "Ta# sk 1: Exploratory Data Analysis and Data Preprocessing"
   ]
  },
  {
   "cell_type": "code",
   "execution_count": 1,
   "id": "ce2dbb00",
   "metadata": {},
   "outputs": [],
   "source": [
    "import pandas as pd\n",
    "import numpy as np\n",
    "import matplotlib.pyplot as plt\n",
    "import seaborn as sns\n",
    "import re\n",
    "from collections import Counter\n",
    "import os \n",
    "import sys\n",
    "sys.path.append(os.path.abspath(\"../src\"))\n",
    "import warnings\n",
    "warnings.filterwarnings('ignore')"
   ]
  },
  {
   "cell_type": "code",
   "execution_count": 2,
   "id": "58e0575d",
   "metadata": {},
   "outputs": [],
   "source": [
    "# %%\n",
    "os.chdir(\"..\")  # Go up a directory\n",
    "#print(os.getcwd())"
   ]
  },
  {
   "cell_type": "markdown",
   "id": "d8bdc2bd",
   "metadata": {},
   "source": [
    "Perform Initial EDA"
   ]
  },
  {
   "cell_type": "code",
   "execution_count": 4,
   "id": "d9050806",
   "metadata": {},
   "outputs": [
    {
     "name": "stdout",
     "output_type": "stream",
     "text": [
      "Error loading file: Unable to allocate 1.15 GiB for an array with shape (16, 9609797) and data type object\n"
     ]
    }
   ],
   "source": [
    "from EDA_Preprocessing import load_data\n",
    "df = load_data(\"Data/complaints.csv\")"
   ]
  },
  {
   "cell_type": "code",
   "execution_count": null,
   "id": "b52449c8",
   "metadata": {},
   "outputs": [],
   "source": [
    "import pandas as pd\n",
    "import gc"
   ]
  },
  {
   "cell_type": "code",
   "execution_count": 13,
   "id": "186c9129",
   "metadata": {},
   "outputs": [
    {
     "name": "stdout",
     "output_type": "stream",
     "text": [
      "\n",
      "🔹 Chunk 1 - First 5 Rows:\n",
      "  Date received                                            Product  \\\n",
      "0    2025-06-20  Credit reporting or other personal consumer re...   \n",
      "1    2025-06-20                                    Debt collection   \n",
      "2    2025-06-20  Credit reporting or other personal consumer re...   \n",
      "3    2025-06-20  Credit reporting or other personal consumer re...   \n",
      "4    2025-06-20  Credit reporting or other personal consumer re...   \n",
      "\n",
      "               Sub-product                                 Issue  \\\n",
      "0         Credit reporting  Incorrect information on your report   \n",
      "1  Telecommunications debt     Attempts to collect debt not owed   \n",
      "2         Credit reporting           Improper use of your report   \n",
      "3         Credit reporting           Improper use of your report   \n",
      "4         Credit reporting  Incorrect information on your report   \n",
      "\n",
      "                                       Sub-issue Consumer complaint narrative  \\\n",
      "0            Information belongs to someone else                          NaN   \n",
      "1                              Debt is not yours                          NaN   \n",
      "2  Reporting company used your report improperly                          NaN   \n",
      "3  Reporting company used your report improperly                          NaN   \n",
      "4                       Account status incorrect                          NaN   \n",
      "\n",
      "                             Company public response  \\\n",
      "0                                                NaN   \n",
      "1  Company can't verify or dispute the facts in t...   \n",
      "2                                                NaN   \n",
      "3                                                NaN   \n",
      "4                                                NaN   \n",
      "\n",
      "                                        Company State ZIP code Tags  \\\n",
      "0           Experian Information Solutions Inc.    FL    32092  NaN   \n",
      "1  Eastern Account Systems of Connecticut, Inc.    FL    342XX  NaN   \n",
      "2        TRANSUNION INTERMEDIATE HOLDINGS, INC.    AZ    85225  NaN   \n",
      "3           Experian Information Solutions Inc.    AZ    85225  NaN   \n",
      "4           Experian Information Solutions Inc.    IL    60628  NaN   \n",
      "\n",
      "  Consumer consent provided? Submitted via Date sent to company  \\\n",
      "0                        NaN           Web           2025-06-20   \n",
      "1                        NaN           Web           2025-06-20   \n",
      "2                        NaN           Web           2025-06-20   \n",
      "3                        NaN           Web           2025-06-20   \n",
      "4                        NaN           Web           2025-06-20   \n",
      "\n",
      "  Company response to consumer Timely response?  Consumer disputed?  \\\n",
      "0                  In progress              Yes                 NaN   \n",
      "1      Closed with explanation              Yes                 NaN   \n",
      "2                  In progress              Yes                 NaN   \n",
      "3                  In progress              Yes                 NaN   \n",
      "4                  In progress              Yes                 NaN   \n",
      "\n",
      "   Complaint ID  \n",
      "0      14195687  \n",
      "1      14195688  \n",
      "2      14195689  \n",
      "3      14195690  \n",
      "4      14195692  \n",
      "\n",
      "✅ Shape of returned DataFrame: (100000, 18)\n"
     ]
    }
   ],
   "source": [
    "df = display_csv_chunks(\"Data/complaints.csv\", chunksize=100_000, max_chunks=1)\n",
    "\n",
    "# Now you can work with df\n",
    "print(\"\\n✅ Shape of returned DataFrame:\", df.shape)"
   ]
  },
  {
   "cell_type": "code",
   "execution_count": 15,
   "id": "b8e46ca8",
   "metadata": {},
   "outputs": [
    {
     "data": {
      "text/plain": [
       "(100000, 18)"
      ]
     },
     "execution_count": 15,
     "metadata": {},
     "output_type": "execute_result"
    }
   ],
   "source": [
    "df.head()\n",
    "df.shape"
   ]
  },
  {
   "cell_type": "code",
   "execution_count": 4,
   "id": "a09d83ba",
   "metadata": {},
   "outputs": [
    {
     "name": "stdout",
     "output_type": "stream",
     "text": [
      "Index(['Date received', 'Product', 'Sub-product', 'Issue', 'Sub-issue',\n",
      "       'Consumer complaint narrative', 'Company public response', 'Company',\n",
      "       'State', 'ZIP code', 'Tags', 'Consumer consent provided?',\n",
      "       'Submitted via', 'Date sent to company', 'Company response to consumer',\n",
      "       'Timely response?', 'Consumer disputed?', 'Complaint ID'],\n",
      "      dtype='object')\n",
      "Date received                   object\n",
      "Product                         object\n",
      "Sub-product                     object\n",
      "Issue                           object\n",
      "Sub-issue                       object\n",
      "Consumer complaint narrative    object\n",
      "Company public response         object\n",
      "Company                         object\n",
      "State                           object\n",
      "ZIP code                        object\n",
      "Tags                            object\n",
      "Consumer consent provided?      object\n",
      "Submitted via                   object\n",
      "Date sent to company            object\n",
      "Company response to consumer    object\n",
      "Timely response?                object\n",
      "Consumer disputed?              object\n",
      "Complaint ID                     int64\n",
      "dtype: object\n",
      "Date received                         0\n",
      "Product                               0\n",
      "Sub-product                      235295\n",
      "Issue                                 6\n",
      "Sub-issue                        839522\n",
      "Consumer complaint narrative    6629041\n",
      "Company public response         4770207\n",
      "Company                               0\n",
      "State                             54516\n",
      "ZIP code                          30228\n",
      "Tags                            8981029\n",
      "Consumer consent provided?      1649561\n",
      "Submitted via                         0\n",
      "Date sent to company                  0\n",
      "Company response to consumer         20\n",
      "Timely response?                      0\n",
      "Consumer disputed?              8841498\n",
      "Complaint ID                          0\n",
      "dtype: int64\n"
     ]
    },
    {
     "data": {
      "image/png": "[encoded data removed]",
      "text/plain": [
       "<Figure size 1000x600 with 1 Axes>"
      ]
     },
     "metadata": {},
     "output_type": "display_data"
    }
   ],
   "source": [
    "# Show basic structure\n",
    "print(df.columns)\n",
    "print(df.dtypes)\n",
    "print(df.isna().sum())\n",
    "\n",
    "# Distribution of complaints by Product\n",
    "plt.figure(figsize=(10, 6))\n",
    "df['Product'].value_counts().plot(kind='barh')\n",
    "plt.title('Number of Complaints by Product')\n",
    "plt.xlabel('Number of Complaints')\n",
    "plt.show()"
   ]
  },
  {
   "cell_type": "markdown",
   "id": "41776669",
   "metadata": {},
   "source": [
    "Analyze Complaint Narrative Length"
   ]
  },
  {
   "cell_type": "code",
   "execution_count": 5,
   "id": "2c1eb5dd",
   "metadata": {},
   "outputs": [
    {
     "data": {
      "image/png": "[encoded data removed]",
      "text/plain": [
       "<Figure size 800x500 with 1 Axes>"
      ]
     },
     "metadata": {},
     "output_type": "display_data"
    },
    {
     "name": "stdout",
     "output_type": "stream",
     "text": [
      " Very short narratives (<10 words): 6650979\n",
      " Very long narratives (>500 words): 160989\n"
     ]
    }
   ],
   "source": [
    "df['narrative_length'] = df['Consumer complaint narrative'].astype(str).apply(lambda x: len(x.split()))\n",
    "\n",
    "plt.figure(figsize=(8, 5))\n",
    "sns.histplot(df['narrative_length'], bins=50, kde=True)\n",
    "plt.title('Distribution of Complaint Narrative Lengths')\n",
    "plt.xlabel('Word Count')\n",
    "plt.show()\n",
    "\n",
    "# Short and long narratives\n",
    "print(\" Very short narratives (<10 words):\", (df['narrative_length'] < 10).sum())\n",
    "print(\" Very long narratives (>500 words):\", (df['narrative_length'] > 500).sum())"
   ]
  },
  {
   "cell_type": "markdown",
   "id": "41166a06",
   "metadata": {},
   "source": [
    "Count Complaints With vs Without Narrative"
   ]
  },
  {
   "cell_type": "code",
   "execution_count": 6,
   "id": "d4778e36",
   "metadata": {},
   "outputs": [
    {
     "name": "stdout",
     "output_type": "stream",
     "text": [
      " Complaints with narratives: 2980756\n",
      " Complaints without narratives: 6629041\n"
     ]
    }
   ],
   "source": [
    "with_narrative = df['Consumer complaint narrative'].notna().sum()\n",
    "without_narrative = df['Consumer complaint narrative'].isna().sum()\n",
    "\n",
    "print(f\" Complaints with narratives: {with_narrative}\")\n",
    "print(f\" Complaints without narratives: {without_narrative}\")"
   ]
  },
  {
   "cell_type": "markdown",
   "id": "cadfb6d0",
   "metadata": {},
   "source": [
    "Filter Dataset for Specified Products & Clean Narratives"
   ]
  },
  {
   "cell_type": "code",
   "execution_count": 7,
   "id": "fc218669",
   "metadata": {},
   "outputs": [
    {
     "name": "stdout",
     "output_type": "stream",
     "text": [
      "Filtered data shape: (177855, 20)\n"
     ]
    }
   ],
   "source": [
    "TARGET_PRODUCTS = [\n",
    "    \"Credit card\", \n",
    "    \"Personal loan\", \n",
    "    \"Buy Now, Pay Later (BNPL)\", \n",
    "    \"Savings account\", \n",
    "    \"Money transfer, virtual currency, or money service\"\n",
    "]\n",
    "\n",
    "def clean_text(text):\n",
    "    text = str(text).lower()\n",
    "    text = re.sub(r'\\bi am writing.*?complaint\\b', '', text)  # remove boilerplate\n",
    "    text = re.sub(r'[^a-z0-9\\s]', '', text)  # remove special characters\n",
    "    text = re.sub(r'\\s+', ' ', text)  # normalize whitespace\n",
    "    return text.strip()\n",
    "\n",
    "def filter_and_clean(df):\n",
    "    filtered = df[df['Product'].isin(TARGET_PRODUCTS)].copy()\n",
    "    filtered = filtered[filtered['Consumer complaint narrative'].notna()]\n",
    "    filtered['cleaned_narrative'] = filtered['Consumer complaint narrative'].apply(clean_text)\n",
    "    return filtered\n",
    "\n",
    "filtered_df = filter_and_clean(df)\n",
    "print(f\"Filtered data shape: {filtered_df.shape}\")"
   ]
  },
  {
   "cell_type": "markdown",
   "id": "7f3263f7",
   "metadata": {},
   "source": [
    "Save Cleaned Dataset"
   ]
  },
  {
   "cell_type": "code",
   "execution_count": 8,
   "id": "3bcee37c",
   "metadata": {},
   "outputs": [
    {
     "name": "stdout",
     "output_type": "stream",
     "text": [
      " Filtered dataset saved to Data/filtered_complaints.csv\n"
     ]
    }
   ],
   "source": [
    "def save_filtered_data(df, path=\"Data/filtered_complaints.csv\"):\n",
    "    try:\n",
    "        os.makedirs(os.path.dirname(path), exist_ok=True)\n",
    "        df.to_csv(path, index=False)\n",
    "        print(f\" Filtered dataset saved to {path}\")\n",
    "    except Exception as e:\n",
    "        print(f\" Failed to save file: {e}\")\n",
    "\n",
    "save_filtered_data(filtered_df)"
   ]
  },
  {
   "cell_type": "code",
   "execution_count": 7,
   "id": "f2774a5f",
   "metadata": {},
   "outputs": [
    {
     "data": {
      "text/html": [
       "<div>\n",
       "<style scoped>\n",
       "    .dataframe tbody tr th:only-of-type {\n",
       "        vertical-align: middle;\n",
       "    }\n",
       "\n",
       "    .dataframe tbody tr th {\n",
       "        vertical-align: top;\n",
       "    }\n",
       "\n",
       "    .dataframe thead th {\n",
       "        text-align: right;\n",
       "    }\n",
       "</style>\n",
       "<table border=\"1\" class=\"dataframe\">\n",
       "  <thead>\n",
       "    <tr style=\"text-align: right;\">\n",
       "      <th></th>\n",
       "      <th>Date received</th>\n",
       "      <th>Product</th>\n",
       "      <th>Sub-product</th>\n",
       "      <th>Issue</th>\n",
       "      <th>Sub-issue</th>\n",
       "      <th>Consumer complaint narrative</th>\n",
       "      <th>Company public response</th>\n",
       "      <th>Company</th>\n",
       "      <th>State</th>\n",
       "      <th>ZIP code</th>\n",
       "      <th>Tags</th>\n",
       "      <th>Consumer consent provided?</th>\n",
       "      <th>Submitted via</th>\n",
       "      <th>Date sent to company</th>\n",
       "      <th>Company response to consumer</th>\n",
       "      <th>Timely response?</th>\n",
       "      <th>Consumer disputed?</th>\n",
       "      <th>Complaint ID</th>\n",
       "      <th>narrative_length</th>\n",
       "      <th>cleaned_narrative</th>\n",
       "    </tr>\n",
       "  </thead>\n",
       "  <tbody>\n",
       "    <tr>\n",
       "      <th>0</th>\n",
       "      <td>2025-06-13</td>\n",
       "      <td>Credit card</td>\n",
       "      <td>Store credit card</td>\n",
       "      <td>Getting a credit card</td>\n",
       "      <td>Card opened without my consent or knowledge</td>\n",
       "      <td>A XXXX XXXX card was opened under my name by a...</td>\n",
       "      <td>Company has responded to the consumer and the ...</td>\n",
       "      <td>CITIBANK, N.A.</td>\n",
       "      <td>TX</td>\n",
       "      <td>78230</td>\n",
       "      <td>Servicemember</td>\n",
       "      <td>Consent provided</td>\n",
       "      <td>Web</td>\n",
       "      <td>2025-06-13</td>\n",
       "      <td>Closed with non-monetary relief</td>\n",
       "      <td>Yes</td>\n",
       "      <td>NaN</td>\n",
       "      <td>14069121</td>\n",
       "      <td>91</td>\n",
       "      <td>a xxxx xxxx card was opened under my name by a...</td>\n",
       "    </tr>\n",
       "    <tr>\n",
       "      <th>1</th>\n",
       "      <td>2025-06-12</td>\n",
       "      <td>Credit card</td>\n",
       "      <td>General-purpose credit card or charge card</td>\n",
       "      <td>Other features, terms, or problems</td>\n",
       "      <td>Other problem</td>\n",
       "      <td>Dear CFPB, I have a secured credit card with c...</td>\n",
       "      <td>Company has responded to the consumer and the ...</td>\n",
       "      <td>CITIBANK, N.A.</td>\n",
       "      <td>NY</td>\n",
       "      <td>11220</td>\n",
       "      <td>NaN</td>\n",
       "      <td>Consent provided</td>\n",
       "      <td>Web</td>\n",
       "      <td>2025-06-13</td>\n",
       "      <td>Closed with monetary relief</td>\n",
       "      <td>Yes</td>\n",
       "      <td>NaN</td>\n",
       "      <td>14047085</td>\n",
       "      <td>156</td>\n",
       "      <td>dear cfpb i have a secured credit card with ci...</td>\n",
       "    </tr>\n",
       "    <tr>\n",
       "      <th>2</th>\n",
       "      <td>2025-06-12</td>\n",
       "      <td>Credit card</td>\n",
       "      <td>General-purpose credit card or charge card</td>\n",
       "      <td>Incorrect information on your report</td>\n",
       "      <td>Account information incorrect</td>\n",
       "      <td>I have a Citi rewards cards. The credit balanc...</td>\n",
       "      <td>Company has responded to the consumer and the ...</td>\n",
       "      <td>CITIBANK, N.A.</td>\n",
       "      <td>IL</td>\n",
       "      <td>60067</td>\n",
       "      <td>NaN</td>\n",
       "      <td>Consent provided</td>\n",
       "      <td>Web</td>\n",
       "      <td>2025-06-12</td>\n",
       "      <td>Closed with explanation</td>\n",
       "      <td>Yes</td>\n",
       "      <td>NaN</td>\n",
       "      <td>14040217</td>\n",
       "      <td>233</td>\n",
       "      <td>i have a citi rewards cards the credit balance...</td>\n",
       "    </tr>\n",
       "    <tr>\n",
       "      <th>3</th>\n",
       "      <td>2025-06-09</td>\n",
       "      <td>Credit card</td>\n",
       "      <td>General-purpose credit card or charge card</td>\n",
       "      <td>Problem with a purchase shown on your statement</td>\n",
       "      <td>Credit card company isn't resolving a dispute ...</td>\n",
       "      <td>b'I am writing to dispute the following charge...</td>\n",
       "      <td>Company has responded to the consumer and the ...</td>\n",
       "      <td>CITIBANK, N.A.</td>\n",
       "      <td>TX</td>\n",
       "      <td>78413</td>\n",
       "      <td>Older American</td>\n",
       "      <td>Consent provided</td>\n",
       "      <td>Web</td>\n",
       "      <td>2025-06-09</td>\n",
       "      <td>Closed with monetary relief</td>\n",
       "      <td>Yes</td>\n",
       "      <td>NaN</td>\n",
       "      <td>13968411</td>\n",
       "      <td>454</td>\n",
       "      <td>bi am writing to dispute the following charges...</td>\n",
       "    </tr>\n",
       "    <tr>\n",
       "      <th>4</th>\n",
       "      <td>2025-06-09</td>\n",
       "      <td>Credit card</td>\n",
       "      <td>General-purpose credit card or charge card</td>\n",
       "      <td>Problem when making payments</td>\n",
       "      <td>Problem during payment process</td>\n",
       "      <td>Although the account had been deemed closed, I...</td>\n",
       "      <td>Company believes it acted appropriately as aut...</td>\n",
       "      <td>Atlanticus Services Corporation</td>\n",
       "      <td>NY</td>\n",
       "      <td>11212</td>\n",
       "      <td>Older American</td>\n",
       "      <td>Consent provided</td>\n",
       "      <td>Web</td>\n",
       "      <td>2025-06-09</td>\n",
       "      <td>Closed with monetary relief</td>\n",
       "      <td>Yes</td>\n",
       "      <td>NaN</td>\n",
       "      <td>13965746</td>\n",
       "      <td>170</td>\n",
       "      <td>although the account had been deemed closed i ...</td>\n",
       "    </tr>\n",
       "  </tbody>\n",
       "</table>\n",
       "</div>"
      ],
      "text/plain": [
       "  Date received      Product                                 Sub-product  \\\n",
       "0    2025-06-13  Credit card                           Store credit card   \n",
       "1    2025-06-12  Credit card  General-purpose credit card or charge card   \n",
       "2    2025-06-12  Credit card  General-purpose credit card or charge card   \n",
       "3    2025-06-09  Credit card  General-purpose credit card or charge card   \n",
       "4    2025-06-09  Credit card  General-purpose credit card or charge card   \n",
       "\n",
       "                                             Issue  \\\n",
       "0                            Getting a credit card   \n",
       "1               Other features, terms, or problems   \n",
       "2             Incorrect information on your report   \n",
       "3  Problem with a purchase shown on your statement   \n",
       "4                     Problem when making payments   \n",
       "\n",
       "                                           Sub-issue  \\\n",
       "0        Card opened without my consent or knowledge   \n",
       "1                                      Other problem   \n",
       "2                      Account information incorrect   \n",
       "3  Credit card company isn't resolving a dispute ...   \n",
       "4                     Problem during payment process   \n",
       "\n",
       "                        Consumer complaint narrative  \\\n",
       "0  A XXXX XXXX card was opened under my name by a...   \n",
       "1  Dear CFPB, I have a secured credit card with c...   \n",
       "2  I have a Citi rewards cards. The credit balanc...   \n",
       "3  b'I am writing to dispute the following charge...   \n",
       "4  Although the account had been deemed closed, I...   \n",
       "\n",
       "                             Company public response  \\\n",
       "0  Company has responded to the consumer and the ...   \n",
       "1  Company has responded to the consumer and the ...   \n",
       "2  Company has responded to the consumer and the ...   \n",
       "3  Company has responded to the consumer and the ...   \n",
       "4  Company believes it acted appropriately as aut...   \n",
       "\n",
       "                           Company State ZIP code            Tags  \\\n",
       "0                   CITIBANK, N.A.    TX    78230   Servicemember   \n",
       "1                   CITIBANK, N.A.    NY    11220             NaN   \n",
       "2                   CITIBANK, N.A.    IL    60067             NaN   \n",
       "3                   CITIBANK, N.A.    TX    78413  Older American   \n",
       "4  Atlanticus Services Corporation    NY    11212  Older American   \n",
       "\n",
       "  Consumer consent provided? Submitted via Date sent to company  \\\n",
       "0           Consent provided           Web           2025-06-13   \n",
       "1           Consent provided           Web           2025-06-13   \n",
       "2           Consent provided           Web           2025-06-12   \n",
       "3           Consent provided           Web           2025-06-09   \n",
       "4           Consent provided           Web           2025-06-09   \n",
       "\n",
       "      Company response to consumer Timely response? Consumer disputed?  \\\n",
       "0  Closed with non-monetary relief              Yes                NaN   \n",
       "1      Closed with monetary relief              Yes                NaN   \n",
       "2          Closed with explanation              Yes                NaN   \n",
       "3      Closed with monetary relief              Yes                NaN   \n",
       "4      Closed with monetary relief              Yes                NaN   \n",
       "\n",
       "   Complaint ID  narrative_length  \\\n",
       "0      14069121                91   \n",
       "1      14047085               156   \n",
       "2      14040217               233   \n",
       "3      13968411               454   \n",
       "4      13965746               170   \n",
       "\n",
       "                                   cleaned_narrative  \n",
       "0  a xxxx xxxx card was opened under my name by a...  \n",
       "1  dear cfpb i have a secured credit card with ci...  \n",
       "2  i have a citi rewards cards the credit balance...  \n",
       "3  bi am writing to dispute the following charges...  \n",
       "4  although the account had been deemed closed i ...  "
      ]
     },
     "execution_count": 7,
     "metadata": {},
     "output_type": "execute_result"
    }
   ],
   "source": [
    "df_clean = pd.read_csv(\"Data/filtered_complaints.csv\")\n",
    "df_clean.head()"
   ]
  },
  {
   "cell_type": "code",
   "execution_count": 8,
   "id": "3b4f443f",
   "metadata": {},
   "outputs": [
    {
     "data": {
      "text/plain": [
       "(177855, 20)"
      ]
     },
     "execution_count": 8,
     "metadata": {},
     "output_type": "execute_result"
    }
   ],
   "source": [
    "df_clean.shape"
   ]
  }
 ],
 "metadata": {
  "kernelspec": {
   "display_name": "Python 3",
   "language": "python",
   "name": "python3"
  },
  "language_info": {
   "codemirror_mode": {
    "name": "ipython",
    "version": 3
   },
   "file_extension": ".py",
   "mimetype": "text/x-python",
   "name": "python",
   "nbconvert_exporter": "python",
   "pygments_lexer": "ipython3",
   "version": "3.11.0"
  }
 },
 "nbformat": 4,
 "nbformat_minor": 5
}
