{
 "cells": [
  {
   "cell_type": "markdown",
   "id": "ead455e2",
   "metadata": {},
   "source": [
    "# Task 2: Text Chunking, Embedding, and Vector Store Indexing"
   ]
  },
  {
   "cell_type": "code",
   "execution_count": 2,
   "id": "25862b40",
   "metadata": {},
   "outputs": [],
   "source": [
    "import pandas as pd\n",
    "from langchain.text_splitter import RecursiveCharacterTextSplitter\n",
    "from sentence_transformers import SentenceTransformer\n",
    "import faiss\n",
    "import os\n",
    "import pickle\n",
    "import sys\n",
    "sys.path.append(os.path.abspath(\"../src\"))\n",
    "import warnings\n",
    "warnings.filterwarnings('ignore')"
   ]
  },
  {
   "cell_type": "code",
   "execution_count": 3,
   "id": "2780b6dd",
   "metadata": {},
   "outputs": [],
   "source": [
    "# %%\n",
    "os.chdir(\"..\")  # Go up a directory\n",
    "#print(os.getcwd())"
   ]
  },
  {
   "cell_type": "code",
   "execution_count": 6,
   "id": "783746d5",
   "metadata": {},
   "outputs": [],
   "source": [
    "from Embeding_Index import *"
   ]
  },
  {
   "cell_type": "code",
   "execution_count": null,
   "id": "33060143",
   "metadata": {},
   "outputs": [
    {
     "name": "stdout",
     "output_type": "stream",
     "text": [
      " Chunking text...\n",
      " Generating embeddings...\n"
     ]
    },
    {
     "name": "stderr",
     "output_type": "stream",
     "text": [
      "Batches:  11%|█         | 2681/24022 [18:39<4:15:53,  1.39it/s]"
     ]
    }
   ],
   "source": [
    "# Access Function\n",
    "def run_pipeline(input_path=\"Data/filtered_complaints.csv\", chunk_size=300, chunk_overlap=50):\n",
    "    df = load_cleaned_data(input_path)\n",
    "    if df is None:\n",
    "        return\n",
    "\n",
    "    print(\" Chunking text...\")\n",
    "    texts, metadata = chunk_texts(df, chunk_size, chunk_overlap)\n",
    "\n",
    "    print(\" Generating embeddings...\")\n",
    "    embeddings = generate_embeddings(texts)\n",
    "\n",
    "    print(\"Indexing to FAISS...\")\n",
    "    index_with_faiss(embeddings, metadata)\n",
    "\n",
    "if __name__ == \"__main__\":\n",
    "    run_pipeline()"
   ]
  }
 ],
 "metadata": {
  "kernelspec": {
   "display_name": "Python 3",
   "language": "python",
   "name": "python3"
  },
  "language_info": {
   "codemirror_mode": {
    "name": "ipython",
    "version": 3
   },
   "file_extension": ".py",
   "mimetype": "text/x-python",
   "name": "python",
   "nbconvert_exporter": "python",
   "pygments_lexer": "ipython3",
   "version": "3.11.0"
  }
 },
 "nbformat": 4,
 "nbformat_minor": 5
}
