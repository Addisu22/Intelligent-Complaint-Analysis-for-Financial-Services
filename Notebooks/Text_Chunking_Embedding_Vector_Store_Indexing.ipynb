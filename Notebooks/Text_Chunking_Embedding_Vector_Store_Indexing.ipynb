{
 "cells": [
  {
   "cell_type": "markdown",
   "id": "ead455e2",
   "metadata": {},
   "source": [
    "# Task 2: Text Chunking, Embedding, and Vector Store Indexing"
   ]
  },
  {
   "cell_type": "code",
   "execution_count": 4,
   "id": "7b81b8a1",
   "metadata": {},
   "outputs": [],
   "source": [
    "# %pip install faiss-cpu"
   ]
  },
  {
   "cell_type": "code",
   "execution_count": 5,
   "id": "25862b40",
   "metadata": {},
   "outputs": [],
   "source": [
    "import pandas as pd\n",
    "from langchain.text_splitter import RecursiveCharacterTextSplitter\n",
    "from sentence_transformers import SentenceTransformer\n",
    "import faiss\n",
    "import os\n",
    "import pickle\n",
    "import sys\n",
    "sys.path.append(os.path.abspath(\"../src\"))\n",
    "import warnings\n",
    "warnings.filterwarnings('ignore')"
   ]
  },
  {
   "cell_type": "code",
   "execution_count": 6,
   "id": "2780b6dd",
   "metadata": {},
   "outputs": [],
   "source": [
    "# %%\n",
    "os.chdir(\"..\")  # Go up a directory\n",
    "#print(os.getcwd())"
   ]
  },
  {
   "cell_type": "code",
   "execution_count": 7,
   "id": "783746d5",
   "metadata": {},
   "outputs": [],
   "source": [
    "from Embeding_Index import *"
   ]
  },
  {
   "cell_type": "code",
   "execution_count": 8,
   "id": "33060143",
   "metadata": {},
   "outputs": [
    {
     "name": "stdout",
     "output_type": "stream",
     "text": [
      " Chunking text...\n",
      " Generating embeddings...\n"
     ]
    },
    {
     "name": "stderr",
     "output_type": "stream",
     "text": [
      "Batches: 100%|██████████| 45/45 [00:25<00:00,  1.79it/s]"
     ]
    },
    {
     "name": "stdout",
     "output_type": "stream",
     "text": [
      "Indexing to FAISS...\n",
      "Vector store saved in vector_store/faiss_index\n"
     ]
    },
    {
     "name": "stderr",
     "output_type": "stream",
     "text": [
      "\n"
     ]
    }
   ],
   "source": [
    "# Access Function\n",
    "def run_pipeline(input_path=\"Data/filtered_complaints.csv\", chunk_size=300, chunk_overlap=50):\n",
    "    df = load_cleaned_data(input_path)\n",
    "    if df is None:\n",
    "        return\n",
    "\n",
    "    print(\" Chunking text...\")\n",
    "    texts, metadata = chunk_texts(df, chunk_size, chunk_overlap)\n",
    "\n",
    "    print(\" Generating embeddings...\")\n",
    "    embeddings = generate_embeddings(texts)\n",
    "\n",
    "    print(\"Indexing to FAISS...\")\n",
    "    index_with_faiss(embeddings, metadata)\n",
    "\n",
    "if __name__ == \"__main__\":\n",
    "    run_pipeline()"
   ]
  }
 ],
 "metadata": {
  "kernelspec": {
   "display_name": "Python 3",
   "language": "python",
   "name": "python3"
  },
  "language_info": {
   "codemirror_mode": {
    "name": "ipython",
    "version": 3
   },
   "file_extension": ".py",
   "mimetype": "text/x-python",
   "name": "python",
   "nbconvert_exporter": "python",
   "pygments_lexer": "ipython3",
   "version": "3.11.0"
  }
 },
 "nbformat": 4,
 "nbformat_minor": 5
}
