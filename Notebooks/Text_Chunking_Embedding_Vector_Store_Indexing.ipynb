{
 "cells": [
  {
   "cell_type": "markdown",
   "id": "ead455e2",
   "metadata": {},
   "source": [
    "# Task 2: Text Chunking, Embedding, and Vector Store Indexing"
   ]
  },
  {
   "cell_type": "code",
   "execution_count": 4,
   "id": "7b81b8a1",
   "metadata": {},
   "outputs": [],
   "source": [
    "# %pip install faiss-cpu"
   ]
  },
  {
   "cell_type": "code",
   "execution_count": 6,
   "id": "25862b40",
   "metadata": {},
   "outputs": [],
   "source": [
    "import pandas as pd\n",
    "from langchain.text_splitter import RecursiveCharacterTextSplitter\n",
    "from sentence_transformers import SentenceTransformer\n",
    "import faiss\n",
    "import os\n",
    "import pickle\n",
    "import sys\n",
    "sys.path.append(os.path.abspath(\"../src\"))\n",
    "import warnings\n",
    "warnings.filterwarnings('ignore')"
   ]
  },
  {
   "cell_type": "code",
   "execution_count": 8,
   "id": "2780b6dd",
   "metadata": {},
   "outputs": [],
   "source": [
    "# %%\n",
    "os.chdir(\"..\")  # Go up a directory\n",
    "#print(os.getcwd())"
   ]
  },
  {
   "cell_type": "code",
   "execution_count": 7,
   "id": "783746d5",
   "metadata": {},
   "outputs": [],
   "source": [
    "from Embeding_Index import *"
   ]
  },
  {
   "cell_type": "code",
   "execution_count": 8,
   "id": "33060143",
   "metadata": {},
   "outputs": [
    {
     "name": "stdout",
     "output_type": "stream",
     "text": [
      " Chunking text...\n",
      " Generating embeddings...\n"
     ]
    },
    {
     "name": "stderr",
     "output_type": "stream",
     "text": [
      "Batches: 100%|██████████| 45/45 [00:25<00:00,  1.79it/s]"
     ]
    },
    {
     "name": "stdout",
     "output_type": "stream",
     "text": [
      "Indexing to FAISS...\n",
      "Vector store saved in vector_store/faiss_index\n"
     ]
    },
    {
     "name": "stderr",
     "output_type": "stream",
     "text": [
      "\n"
     ]
    }
   ],
   "source": [
    "# Access Function\n",
    "def run_pipeline(input_path=\"Data/filtered_complaints.csv\", chunk_size=300, chunk_overlap=50):\n",
    "    df = load_cleaned_data(input_path)\n",
    "    if df is None:\n",
    "        return\n",
    "\n",
    "    print(\" Chunking text...\")\n",
    "    texts, metadata = chunk_texts(df, chunk_size, chunk_overlap)\n",
    "\n",
    "    print(\" Generating embeddings...\")\n",
    "    embeddings = generate_embeddings(texts)\n",
    "\n",
    "    print(\"Indexing to FAISS...\")\n",
    "    index_with_faiss(embeddings, metadata)\n",
    "\n",
    "if __name__ == \"__main__\":\n",
    "    run_pipeline()"
   ]
  },
  {
   "cell_type": "code",
   "execution_count": 2,
   "id": "b4fe64f9",
   "metadata": {},
   "outputs": [],
   "source": [
    "def chunk_texts(df, column='cleaned_narrative', chunk_size=500, chunk_overlap=100):\n",
    "    \"\"\"\n",
    "    Splits text into overlapping chunks for better embeddings.\n",
    "    Returns list of chunks and their metadata.\n",
    "    \"\"\"\n",
    "    try:\n",
    "        splitter = RecursiveCharacterTextSplitter(chunk_size=chunk_size, chunk_overlap=chunk_overlap)\n",
    "        texts, metadata = [], []\n",
    "\n",
    "        for idx, row in df.iterrows():\n",
    "            if pd.notna(row[column]):\n",
    "                chunks = splitter.split_text(row[column])\n",
    "                for chunk in chunks:\n",
    "                    texts.append(chunk)\n",
    "                    metadata.append({\n",
    "                        \"complaint_id\": row[\"Complaint ID\"] if \"Complaint ID\" in row else idx,\n",
    "                        \"product\": row.get(\"Product\", \"Unknown\")\n",
    "                    })\n",
    "\n",
    "        print(f\"Chunked {len(texts)} text segments from {len(df)} records.\")\n",
    "        return texts, metadata\n",
    "\n",
    "    except Exception as e:\n",
    "        print(f\"Error in chunking: {e}\")\n",
    "        return [], []"
   ]
  },
  {
   "cell_type": "code",
   "execution_count": 4,
   "id": "61cbf5f1",
   "metadata": {},
   "outputs": [],
   "source": [
    "from sentence_transformers import SentenceTransformer\n",
    "import numpy as np\n",
    "import json\n",
    "\n",
    "def embed_and_index(texts, metadata, model_name=\"all-MiniLM-L6-v2\"):\n",
    "    \"\"\"\n",
    "    Embeds text chunks using a SentenceTransformer and stores in FAISS.\n",
    "    Returns FAISS index and metadata list.\n",
    "    \"\"\"\n",
    "    try:\n",
    "        print(\"Loading embedding model...\")\n",
    "        model = SentenceTransformer(model_name)\n",
    "        embeddings = model.encode(texts, show_progress_bar=True)\n",
    "\n",
    "        dim = embeddings[0].shape[0]\n",
    "        index = faiss.IndexFlatL2(dim)\n",
    "        index.add(np.array(embeddings))\n",
    "\n",
    "        print(f\"Embedded and indexed {len(texts)} text chunks.\")\n",
    "        return index, metadata\n",
    "\n",
    "    except Exception as e:\n",
    "        print(f\" Error in embedding/indexing: {e}\")\n",
    "        return None, []"
   ]
  },
  {
   "cell_type": "code",
   "execution_count": 9,
   "id": "634ed13a",
   "metadata": {},
   "outputs": [
    {
     "name": "stdout",
     "output_type": "stream",
     "text": [
      "Chunked 924 text segments from 286 records.\n",
      "Loading embedding model...\n"
     ]
    },
    {
     "name": "stderr",
     "output_type": "stream",
     "text": [
      "Batches: 100%|██████████| 29/29 [00:08<00:00,  3.28it/s]"
     ]
    },
    {
     "name": "stdout",
     "output_type": "stream",
     "text": [
      "Embedded and indexed 924 text chunks.\n"
     ]
    },
    {
     "name": "stderr",
     "output_type": "stream",
     "text": [
      "\n"
     ]
    }
   ],
   "source": [
    "# Load cleaned data (make sure it's already filtered/cleaned)\n",
    "df_cleaned = pd.read_csv(\"Data/filtered_complaints.csv\")\n",
    "# Step 1: Chunk narratives\n",
    "texts, meta = chunk_texts(df_cleaned)\n",
    "\n",
    "# Step 2: Embed and index\n",
    "faiss_index, metadata = embed_and_index(texts, meta)"
   ]
  },
  {
   "cell_type": "code",
   "execution_count": 10,
   "id": "26d40c1c",
   "metadata": {},
   "outputs": [
    {
     "name": "stdout",
     "output_type": "stream",
     "text": [
      "✅ Vector store saved.\n"
     ]
    }
   ],
   "source": [
    "# Save FAISS index\n",
    "faiss.write_index(faiss_index, \"vector_store/faiss_index.index\")\n",
    "\n",
    "# Save metadata\n",
    "with open(\"vector_store/metadata.json\", \"w\") as f:\n",
    "    json.dump(metadata, f)\n",
    "\n",
    "print(\"✅ Vector store saved.\")\n"
   ]
  }
 ],
 "metadata": {
  "kernelspec": {
   "display_name": "Python 3",
   "language": "python",
   "name": "python3"
  },
  "language_info": {
   "codemirror_mode": {
    "name": "ipython",
    "version": 3
   },
   "file_extension": ".py",
   "mimetype": "text/x-python",
   "name": "python",
   "nbconvert_exporter": "python",
   "pygments_lexer": "ipython3",
   "version": "3.11.0"
  }
 },
 "nbformat": 4,
 "nbformat_minor": 5
}
